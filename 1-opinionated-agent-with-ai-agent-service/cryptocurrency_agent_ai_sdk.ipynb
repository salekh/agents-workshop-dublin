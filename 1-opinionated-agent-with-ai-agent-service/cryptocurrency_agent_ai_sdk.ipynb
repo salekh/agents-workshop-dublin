{
 "cells": [
  {
   "cell_type": "markdown",
   "metadata": {},
   "source": [
    "# Cryptocurrency Agent with Azure AI Agent Service\n",
    "\n",
    "This notebook demonstrates how to interact with a Cryptocurrency Agent via the Azure AI SDK. It is designed to guide you step-by-step through the process, including:\n",
    "\n",
    "- Setting up environment variables and dependencies\n",
    "- Enabling telemetry and tracing\n",
    "- Creating agent threads and sending messages\n",
    "- Polling run status and extracting the final answer\n",
    "\n",
    "Follow along as each cell explains a part of the process."
   ]
  },
  {
   "cell_type": "markdown",
   "metadata": {},
   "source": [
    "## Step 1: Setup and Dependencies\n",
    "\n",
    "In this step, we install the prerequisite libraries and load environment variables."
   ]
  },
  {
   "cell_type": "code",
   "execution_count": 1,
   "metadata": {},
   "outputs": [
    {
     "name": "stdout",
     "output_type": "stream",
     "text": [
      "Requirement already satisfied: azure-ai-projects in /home/sanchitalekh/miniconda3/envs/llm/lib/python3.10/site-packages (1.0.0b6)\n",
      "Requirement already satisfied: azure-identity in /home/sanchitalekh/miniconda3/envs/llm/lib/python3.10/site-packages (1.19.0)\n",
      "Requirement already satisfied: isodate>=0.6.1 in /home/sanchitalekh/miniconda3/envs/llm/lib/python3.10/site-packages (from azure-ai-projects) (0.7.2)\n",
      "Requirement already satisfied: azure-core>=1.30.0 in /home/sanchitalekh/miniconda3/envs/llm/lib/python3.10/site-packages (from azure-ai-projects) (1.32.0)\n",
      "Requirement already satisfied: typing-extensions>=4.12.2 in /home/sanchitalekh/miniconda3/envs/llm/lib/python3.10/site-packages (from azure-ai-projects) (4.12.2)\n",
      "Requirement already satisfied: cryptography>=2.5 in /home/sanchitalekh/miniconda3/envs/llm/lib/python3.10/site-packages (from azure-identity) (44.0.0)\n",
      "Requirement already satisfied: msal>=1.30.0 in /home/sanchitalekh/miniconda3/envs/llm/lib/python3.10/site-packages (from azure-identity) (1.31.1)\n",
      "Requirement already satisfied: msal-extensions>=1.2.0 in /home/sanchitalekh/miniconda3/envs/llm/lib/python3.10/site-packages (from azure-identity) (1.2.0)\n",
      "Requirement already satisfied: requests>=2.21.0 in /home/sanchitalekh/miniconda3/envs/llm/lib/python3.10/site-packages (from azure-core>=1.30.0->azure-ai-projects) (2.32.3)\n",
      "Requirement already satisfied: six>=1.11.0 in /home/sanchitalekh/miniconda3/envs/llm/lib/python3.10/site-packages (from azure-core>=1.30.0->azure-ai-projects) (1.16.0)\n",
      "Requirement already satisfied: cffi>=1.12 in /home/sanchitalekh/miniconda3/envs/llm/lib/python3.10/site-packages (from cryptography>=2.5->azure-identity) (1.17.1)\n",
      "Requirement already satisfied: PyJWT<3,>=1.0.0 in /home/sanchitalekh/miniconda3/envs/llm/lib/python3.10/site-packages (from PyJWT[crypto]<3,>=1.0.0->msal>=1.30.0->azure-identity) (2.10.1)\n",
      "Requirement already satisfied: portalocker<3,>=1.4 in /home/sanchitalekh/miniconda3/envs/llm/lib/python3.10/site-packages (from msal-extensions>=1.2.0->azure-identity) (2.10.1)\n",
      "Requirement already satisfied: pycparser in /home/sanchitalekh/miniconda3/envs/llm/lib/python3.10/site-packages (from cffi>=1.12->cryptography>=2.5->azure-identity) (2.22)\n",
      "Requirement already satisfied: charset-normalizer<4,>=2 in /home/sanchitalekh/miniconda3/envs/llm/lib/python3.10/site-packages (from requests>=2.21.0->azure-core>=1.30.0->azure-ai-projects) (3.4.0)\n",
      "Requirement already satisfied: idna<4,>=2.5 in /home/sanchitalekh/miniconda3/envs/llm/lib/python3.10/site-packages (from requests>=2.21.0->azure-core>=1.30.0->azure-ai-projects) (3.10)\n",
      "Requirement already satisfied: urllib3<3,>=1.21.1 in /home/sanchitalekh/miniconda3/envs/llm/lib/python3.10/site-packages (from requests>=2.21.0->azure-core>=1.30.0->azure-ai-projects) (2.2.3)\n",
      "Requirement already satisfied: certifi>=2017.4.17 in /home/sanchitalekh/miniconda3/envs/llm/lib/python3.10/site-packages (from requests>=2.21.0->azure-core>=1.30.0->azure-ai-projects) (2024.8.30)\n",
      "Note: you may need to restart the kernel to use updated packages.\n",
      "Requirement already satisfied: opentelemetry-api in /home/sanchitalekh/miniconda3/envs/llm/lib/python3.10/site-packages (1.31.1)\n",
      "Requirement already satisfied: azure-monitor-opentelemetry in /home/sanchitalekh/miniconda3/envs/llm/lib/python3.10/site-packages (1.6.5)\n",
      "Requirement already satisfied: deprecated>=1.2.6 in /home/sanchitalekh/miniconda3/envs/llm/lib/python3.10/site-packages (from opentelemetry-api) (1.2.15)\n",
      "Requirement already satisfied: importlib-metadata<8.7.0,>=6.0 in /home/sanchitalekh/miniconda3/envs/llm/lib/python3.10/site-packages (from opentelemetry-api) (8.5.0)\n",
      "Requirement already satisfied: azure-core<2.0.0,>=1.28.0 in /home/sanchitalekh/miniconda3/envs/llm/lib/python3.10/site-packages (from azure-monitor-opentelemetry) (1.32.0)\n",
      "Requirement already satisfied: azure-core-tracing-opentelemetry~=1.0.0b11 in /home/sanchitalekh/miniconda3/envs/llm/lib/python3.10/site-packages (from azure-monitor-opentelemetry) (1.0.0b12)\n",
      "Requirement already satisfied: azure-monitor-opentelemetry-exporter~=1.0.0b31 in /home/sanchitalekh/miniconda3/envs/llm/lib/python3.10/site-packages (from azure-monitor-opentelemetry) (1.0.0b35)\n",
      "Requirement already satisfied: opentelemetry-instrumentation-django~=0.49b0 in /home/sanchitalekh/miniconda3/envs/llm/lib/python3.10/site-packages (from azure-monitor-opentelemetry) (0.52b1)\n",
      "Requirement already satisfied: opentelemetry-instrumentation-fastapi~=0.49b0 in /home/sanchitalekh/miniconda3/envs/llm/lib/python3.10/site-packages (from azure-monitor-opentelemetry) (0.52b1)\n",
      "Requirement already satisfied: opentelemetry-instrumentation-flask~=0.49b0 in /home/sanchitalekh/miniconda3/envs/llm/lib/python3.10/site-packages (from azure-monitor-opentelemetry) (0.52b1)\n",
      "Requirement already satisfied: opentelemetry-instrumentation-psycopg2~=0.49b0 in /home/sanchitalekh/miniconda3/envs/llm/lib/python3.10/site-packages (from azure-monitor-opentelemetry) (0.52b1)\n",
      "Requirement already satisfied: opentelemetry-instrumentation-requests~=0.49b0 in /home/sanchitalekh/miniconda3/envs/llm/lib/python3.10/site-packages (from azure-monitor-opentelemetry) (0.52b1)\n",
      "Requirement already satisfied: opentelemetry-instrumentation-urllib~=0.49b0 in /home/sanchitalekh/miniconda3/envs/llm/lib/python3.10/site-packages (from azure-monitor-opentelemetry) (0.52b1)\n",
      "Requirement already satisfied: opentelemetry-instrumentation-urllib3~=0.49b0 in /home/sanchitalekh/miniconda3/envs/llm/lib/python3.10/site-packages (from azure-monitor-opentelemetry) (0.52b1)\n",
      "Requirement already satisfied: opentelemetry-resource-detector-azure~=0.1.4 in /home/sanchitalekh/miniconda3/envs/llm/lib/python3.10/site-packages (from azure-monitor-opentelemetry) (0.1.5)\n",
      "Requirement already satisfied: opentelemetry-sdk~=1.28 in /home/sanchitalekh/miniconda3/envs/llm/lib/python3.10/site-packages (from azure-monitor-opentelemetry) (1.31.1)\n",
      "Requirement already satisfied: requests>=2.21.0 in /home/sanchitalekh/miniconda3/envs/llm/lib/python3.10/site-packages (from azure-core<2.0.0,>=1.28.0->azure-monitor-opentelemetry) (2.32.3)\n",
      "Requirement already satisfied: six>=1.11.0 in /home/sanchitalekh/miniconda3/envs/llm/lib/python3.10/site-packages (from azure-core<2.0.0,>=1.28.0->azure-monitor-opentelemetry) (1.16.0)\n",
      "Requirement already satisfied: typing-extensions>=4.6.0 in /home/sanchitalekh/miniconda3/envs/llm/lib/python3.10/site-packages (from azure-core<2.0.0,>=1.28.0->azure-monitor-opentelemetry) (4.12.2)\n",
      "Requirement already satisfied: fixedint==0.1.6 in /home/sanchitalekh/miniconda3/envs/llm/lib/python3.10/site-packages (from azure-monitor-opentelemetry-exporter~=1.0.0b31->azure-monitor-opentelemetry) (0.1.6)\n",
      "Requirement already satisfied: msrest>=0.6.10 in /home/sanchitalekh/miniconda3/envs/llm/lib/python3.10/site-packages (from azure-monitor-opentelemetry-exporter~=1.0.0b31->azure-monitor-opentelemetry) (0.7.1)\n",
      "Requirement already satisfied: psutil<7,>=5.9 in /home/sanchitalekh/miniconda3/envs/llm/lib/python3.10/site-packages (from azure-monitor-opentelemetry-exporter~=1.0.0b31->azure-monitor-opentelemetry) (6.0.0)\n",
      "Requirement already satisfied: wrapt<2,>=1.10 in /home/sanchitalekh/miniconda3/envs/llm/lib/python3.10/site-packages (from deprecated>=1.2.6->opentelemetry-api) (1.17.2)\n",
      "Requirement already satisfied: zipp>=3.20 in /home/sanchitalekh/miniconda3/envs/llm/lib/python3.10/site-packages (from importlib-metadata<8.7.0,>=6.0->opentelemetry-api) (3.20.2)\n",
      "Requirement already satisfied: opentelemetry-instrumentation-wsgi==0.52b1 in /home/sanchitalekh/miniconda3/envs/llm/lib/python3.10/site-packages (from opentelemetry-instrumentation-django~=0.49b0->azure-monitor-opentelemetry) (0.52b1)\n",
      "Requirement already satisfied: opentelemetry-instrumentation==0.52b1 in /home/sanchitalekh/miniconda3/envs/llm/lib/python3.10/site-packages (from opentelemetry-instrumentation-django~=0.49b0->azure-monitor-opentelemetry) (0.52b1)\n",
      "Requirement already satisfied: opentelemetry-semantic-conventions==0.52b1 in /home/sanchitalekh/miniconda3/envs/llm/lib/python3.10/site-packages (from opentelemetry-instrumentation-django~=0.49b0->azure-monitor-opentelemetry) (0.52b1)\n",
      "Requirement already satisfied: opentelemetry-util-http==0.52b1 in /home/sanchitalekh/miniconda3/envs/llm/lib/python3.10/site-packages (from opentelemetry-instrumentation-django~=0.49b0->azure-monitor-opentelemetry) (0.52b1)\n",
      "Requirement already satisfied: packaging>=18.0 in /home/sanchitalekh/miniconda3/envs/llm/lib/python3.10/site-packages (from opentelemetry-instrumentation==0.52b1->opentelemetry-instrumentation-django~=0.49b0->azure-monitor-opentelemetry) (24.1)\n",
      "Requirement already satisfied: opentelemetry-instrumentation-asgi==0.52b1 in /home/sanchitalekh/miniconda3/envs/llm/lib/python3.10/site-packages (from opentelemetry-instrumentation-fastapi~=0.49b0->azure-monitor-opentelemetry) (0.52b1)\n",
      "Requirement already satisfied: asgiref~=3.0 in /home/sanchitalekh/miniconda3/envs/llm/lib/python3.10/site-packages (from opentelemetry-instrumentation-asgi==0.52b1->opentelemetry-instrumentation-fastapi~=0.49b0->azure-monitor-opentelemetry) (3.8.1)\n",
      "Requirement already satisfied: opentelemetry-instrumentation-dbapi==0.52b1 in /home/sanchitalekh/miniconda3/envs/llm/lib/python3.10/site-packages (from opentelemetry-instrumentation-psycopg2~=0.49b0->azure-monitor-opentelemetry) (0.52b1)\n",
      "Requirement already satisfied: certifi>=2017.4.17 in /home/sanchitalekh/miniconda3/envs/llm/lib/python3.10/site-packages (from msrest>=0.6.10->azure-monitor-opentelemetry-exporter~=1.0.0b31->azure-monitor-opentelemetry) (2024.8.30)\n",
      "Requirement already satisfied: isodate>=0.6.0 in /home/sanchitalekh/miniconda3/envs/llm/lib/python3.10/site-packages (from msrest>=0.6.10->azure-monitor-opentelemetry-exporter~=1.0.0b31->azure-monitor-opentelemetry) (0.7.2)\n",
      "Requirement already satisfied: requests-oauthlib>=0.5.0 in /home/sanchitalekh/miniconda3/envs/llm/lib/python3.10/site-packages (from msrest>=0.6.10->azure-monitor-opentelemetry-exporter~=1.0.0b31->azure-monitor-opentelemetry) (2.0.0)\n",
      "Requirement already satisfied: charset-normalizer<4,>=2 in /home/sanchitalekh/miniconda3/envs/llm/lib/python3.10/site-packages (from requests>=2.21.0->azure-core<2.0.0,>=1.28.0->azure-monitor-opentelemetry) (3.4.0)\n",
      "Requirement already satisfied: idna<4,>=2.5 in /home/sanchitalekh/miniconda3/envs/llm/lib/python3.10/site-packages (from requests>=2.21.0->azure-core<2.0.0,>=1.28.0->azure-monitor-opentelemetry) (3.10)\n",
      "Requirement already satisfied: urllib3<3,>=1.21.1 in /home/sanchitalekh/miniconda3/envs/llm/lib/python3.10/site-packages (from requests>=2.21.0->azure-core<2.0.0,>=1.28.0->azure-monitor-opentelemetry) (2.2.3)\n",
      "Requirement already satisfied: oauthlib>=3.0.0 in /home/sanchitalekh/miniconda3/envs/llm/lib/python3.10/site-packages (from requests-oauthlib>=0.5.0->msrest>=0.6.10->azure-monitor-opentelemetry-exporter~=1.0.0b31->azure-monitor-opentelemetry) (3.2.2)\n",
      "Note: you may need to restart the kernel to use updated packages.\n",
      "Requirement already satisfied: python-dotenv in /home/sanchitalekh/miniconda3/envs/llm/lib/python3.10/site-packages (1.0.1)\n",
      "Requirement already satisfied: rich in /home/sanchitalekh/miniconda3/envs/llm/lib/python3.10/site-packages (13.9.4)\n",
      "Requirement already satisfied: markdown-it-py>=2.2.0 in /home/sanchitalekh/miniconda3/envs/llm/lib/python3.10/site-packages (from rich) (3.0.0)\n",
      "Requirement already satisfied: pygments<3.0.0,>=2.13.0 in /home/sanchitalekh/miniconda3/envs/llm/lib/python3.10/site-packages (from rich) (2.18.0)\n",
      "Requirement already satisfied: typing-extensions<5.0,>=4.0.0 in /home/sanchitalekh/miniconda3/envs/llm/lib/python3.10/site-packages (from rich) (4.12.2)\n",
      "Requirement already satisfied: mdurl~=0.1 in /home/sanchitalekh/miniconda3/envs/llm/lib/python3.10/site-packages (from markdown-it-py>=2.2.0->rich) (0.1.2)\n",
      "Note: you may need to restart the kernel to use updated packages.\n"
     ]
    }
   ],
   "source": [
    "%pip install azure-ai-projects azure-identity\n",
    "%pip install opentelemetry-api azure-monitor-opentelemetry \n",
    "%pip install python-dotenv rich"
   ]
  },
  {
   "cell_type": "code",
   "execution_count": 1,
   "metadata": {},
   "outputs": [
    {
     "data": {
      "text/html": [
       "<pre style=\"white-space:pre;overflow-x:auto;line-height:normal;font-family:Menlo,'DejaVu Sans Mono',consolas,'Courier New',monospace\"><span style=\"color: #008000; text-decoration-color: #008000\">Dependencies loaded and client initialized.</span>\n",
       "</pre>\n"
      ],
      "text/plain": [
       "\u001b[32mDependencies loaded and client initialized.\u001b[0m\n"
      ]
     },
     "metadata": {},
     "output_type": "display_data"
    }
   ],
   "source": [
    "# Import dependencies and load environment variables\n",
    "import os\n",
    "import time\n",
    "from azure.ai.projects import AIProjectClient\n",
    "from azure.identity import DefaultAzureCredential\n",
    "from dotenv import load_dotenv\n",
    "from rich import print  # for rich formatted output\n",
    "\n",
    "load_dotenv()\n",
    "\n",
    "# Initialize the project client using connection string from environment\n",
    "project_client = AIProjectClient.from_connection_string(\n",
    "    credential=DefaultAzureCredential(),\n",
    "    conn_str=os.environ[\"AZURE_AI_AGENT_PROJECT_CONNECTION_STRING\"],\n",
    ")\n",
    "\n",
    "print(\"[green]Dependencies loaded and client initialized.[/green]\")"
   ]
  },
  {
   "cell_type": "markdown",
   "metadata": {},
   "source": [
    "## Step 2: Enable Tracing and Telemetry\n",
    "\n",
    "Here, we enable Azure Monitor tracing and additional instrumentation. This ensures all operations of the agent are monitored."
   ]
  },
  {
   "cell_type": "code",
   "execution_count": 2,
   "metadata": {},
   "outputs": [
    {
     "data": {
      "text/html": [
       "<pre style=\"white-space:pre;overflow-x:auto;line-height:normal;font-family:Menlo,'DejaVu Sans Mono',consolas,'Courier New',monospace\"><span style=\"color: #008000; text-decoration-color: #008000\">Tracing and telemetry are enabled.</span>\n",
       "</pre>\n"
      ],
      "text/plain": [
       "\u001b[32mTracing and telemetry are enabled.\u001b[0m\n"
      ]
     },
     "metadata": {},
     "output_type": "display_data"
    }
   ],
   "source": [
    "# Import tracing libraries\n",
    "from opentelemetry import trace\n",
    "from azure.monitor.opentelemetry import configure_azure_monitor\n",
    "\n",
    "# Enable Azure Monitor tracing\n",
    "application_insights_connection_string = project_client.telemetry.get_connection_string()\n",
    "if not application_insights_connection_string:\n",
    "    print(\"[bold red]Application Insights was not enabled for this project.[/bold red]\")\n",
    "    print(\"[bold red]Enable it via the 'Tracing' tab in your AI Foundry project page.[/bold red]\")\n",
    "    exit()\n",
    "\n",
    "configure_azure_monitor(connection_string=application_insights_connection_string)\n",
    "\n",
    "# Enable additional instrumentations\n",
    "project_client.telemetry.enable()\n",
    "\n",
    "# Setup a tracer for the current scenario\n",
    "import os\n",
    "scenario = os.path.basename(__file__) if '__file__' in globals() else 'notebook_session'\n",
    "tracer = trace.get_tracer(__name__)\n",
    "\n",
    "print(\"[green]Tracing and telemetry are enabled.[/green]\")"
   ]
  },
  {
   "cell_type": "markdown",
   "metadata": {},
   "source": [
    "## Step 3a: Agent Initialization and Creating a Thread\n",
    "\n",
    "Next, we initialize the Cryptocurrency Agent and create a new thread to communicate with it."
   ]
  },
  {
   "cell_type": "code",
   "execution_count": 11,
   "metadata": {},
   "outputs": [
    {
     "data": {
      "text/html": [
       "<pre style=\"white-space:pre;overflow-x:auto;line-height:normal;font-family:Menlo,'DejaVu Sans Mono',consolas,'Courier New',monospace\"><span style=\"color: #008000; text-decoration-color: #008000\">Fetching Cryptocurrency Agent with ID: asst_4bPhvgIUvIkmBwOpgLpfDIDe</span>\n",
       "</pre>\n"
      ],
      "text/plain": [
       "\u001b[32mFetching Cryptocurrency Agent with ID: asst_4bPhvgIUvIkmBwOpgLpfDIDe\u001b[0m\n"
      ]
     },
     "metadata": {},
     "output_type": "display_data"
    },
    {
     "data": {
      "text/html": [
       "<pre style=\"white-space:pre;overflow-x:auto;line-height:normal;font-family:Menlo,'DejaVu Sans Mono',consolas,'Courier New',monospace\"><span style=\"color: #008000; text-decoration-color: #008000\">Created thread, thread ID: thread_FHO7vORgAGTpZxj8dkFgDMoW</span>\n",
       "</pre>\n"
      ],
      "text/plain": [
       "\u001b[32mCreated thread, thread ID: thread_FHO7vORgAGTpZxj8dkFgDMoW\u001b[0m\n"
      ]
     },
     "metadata": {},
     "output_type": "display_data"
    },
    {
     "data": {
      "text/html": [
       "<pre style=\"white-space:pre;overflow-x:auto;line-height:normal;font-family:Menlo,'DejaVu Sans Mono',consolas,'Courier New',monospace\"><span style=\"color: #008000; text-decoration-color: #008000\">Created message, message ID: msg_LDvYWU9cpc9c2hlXpPQhRTxD</span>\n",
       "</pre>\n"
      ],
      "text/plain": [
       "\u001b[32mCreated message, message ID: msg_LDvYWU9cpc9c2hlXpPQhRTxD\u001b[0m\n"
      ]
     },
     "metadata": {},
     "output_type": "display_data"
    }
   ],
   "source": [
    "with tracer.start_as_current_span(scenario):\n",
    "    # Initialize the agent using the assistant ID from environment variables\n",
    "    agent = project_client.agents.get_agent(\n",
    "        assistant_id=os.environ[\"AZURE_AI_CRYPTO_AGENT_ID\"]\n",
    "    )\n",
    "    print(f\"[green]Fetching Cryptocurrency Agent with ID: {agent.id}[/green]\")\n",
    "\n",
    "    # Create a new thread\n",
    "    thread = project_client.agents.create_thread()\n",
    "    print(f\"[green]Created thread, thread ID: {thread.id}[/green]\")\n",
    "\n",
    "    # Create a message with the query content\n",
    "    message = project_client.agents.create_message(\n",
    "        thread_id=thread.id,\n",
    "        role=\"user\",\n",
    "        content=(\n",
    "            \"Find out the 5 most traded cryptocurrencies today.\"\n",
    "            \"If that currency was traded on various exchanges,\"\n",
    "            \"calculate the sum of all trading volumes. \"\n",
    "            \"Also list the exchanges traded on, in a separate column.\"\n",
    "        ),\n",
    "    )\n",
    "    print(f\"[green]Created message, message ID: {message.id}[/green]\")"
   ]
  },
  {
   "cell_type": "markdown",
   "metadata": {},
   "source": [
    "## Step 4a: Running the Agent and Extracting the Final Answer\n",
    "\n",
    "Here, we trigger the agent run, poll for its status until completion, and finally extract and print the final assistant answer."
   ]
  },
  {
   "cell_type": "code",
   "execution_count": 12,
   "metadata": {},
   "outputs": [
    {
     "data": {
      "text/html": [
       "<pre style=\"white-space:pre;overflow-x:auto;line-height:normal;font-family:Menlo,'DejaVu Sans Mono',consolas,'Courier New',monospace\"><span style=\"color: #808000; text-decoration-color: #808000\">Run status: in_progress</span>\n",
       "</pre>\n"
      ],
      "text/plain": [
       "\u001b[33mRun status: in_progress\u001b[0m\n"
      ]
     },
     "metadata": {},
     "output_type": "display_data"
    },
    {
     "data": {
      "text/html": [
       "<pre style=\"white-space:pre;overflow-x:auto;line-height:normal;font-family:Menlo,'DejaVu Sans Mono',consolas,'Courier New',monospace\"><span style=\"color: #808000; text-decoration-color: #808000\">Run status: in_progress</span>\n",
       "</pre>\n"
      ],
      "text/plain": [
       "\u001b[33mRun status: in_progress\u001b[0m\n"
      ]
     },
     "metadata": {},
     "output_type": "display_data"
    },
    {
     "data": {
      "text/html": [
       "<pre style=\"white-space:pre;overflow-x:auto;line-height:normal;font-family:Menlo,'DejaVu Sans Mono',consolas,'Courier New',monospace\"><span style=\"color: #808000; text-decoration-color: #808000\">Run status: in_progress</span>\n",
       "</pre>\n"
      ],
      "text/plain": [
       "\u001b[33mRun status: in_progress\u001b[0m\n"
      ]
     },
     "metadata": {},
     "output_type": "display_data"
    },
    {
     "data": {
      "text/html": [
       "<pre style=\"white-space:pre;overflow-x:auto;line-height:normal;font-family:Menlo,'DejaVu Sans Mono',consolas,'Courier New',monospace\"><span style=\"color: #808000; text-decoration-color: #808000\">Run status: in_progress</span>\n",
       "</pre>\n"
      ],
      "text/plain": [
       "\u001b[33mRun status: in_progress\u001b[0m\n"
      ]
     },
     "metadata": {},
     "output_type": "display_data"
    },
    {
     "data": {
      "text/html": [
       "<pre style=\"white-space:pre;overflow-x:auto;line-height:normal;font-family:Menlo,'DejaVu Sans Mono',consolas,'Courier New',monospace\"><span style=\"color: #808000; text-decoration-color: #808000\">Run status: in_progress</span>\n",
       "</pre>\n"
      ],
      "text/plain": [
       "\u001b[33mRun status: in_progress\u001b[0m\n"
      ]
     },
     "metadata": {},
     "output_type": "display_data"
    },
    {
     "data": {
      "text/html": [
       "<pre style=\"white-space:pre;overflow-x:auto;line-height:normal;font-family:Menlo,'DejaVu Sans Mono',consolas,'Courier New',monospace\"><span style=\"color: #808000; text-decoration-color: #808000\">Run status: completed</span>\n",
       "</pre>\n"
      ],
      "text/plain": [
       "\u001b[33mRun status: completed\u001b[0m\n"
      ]
     },
     "metadata": {},
     "output_type": "display_data"
    },
    {
     "data": {
      "text/html": [
       "<pre style=\"white-space:pre;overflow-x:auto;line-height:normal;font-family:Menlo,'DejaVu Sans Mono',consolas,'Courier New',monospace\"><span style=\"color: #008000; text-decoration-color: #008000\">Final answer: Here are the five most traded cryptocurrencies today along with their total trading volumes and </span>\n",
       "<span style=\"color: #008000; text-decoration-color: #008000\">exchanges they were traded on:</span>\n",
       "\n",
       "<span style=\"color: #008000; text-decoration-color: #008000\">| Cryptocurrency | Total Trading Volume </span><span style=\"color: #008000; text-decoration-color: #008000; font-weight: bold\">(</span><span style=\"color: #008000; text-decoration-color: #008000\">USD</span><span style=\"color: #008000; text-decoration-color: #008000; font-weight: bold\">)</span><span style=\"color: #008000; text-decoration-color: #008000\"> | Exchanges Traded On                                                </span>\n",
       "<span style=\"color: #008000; text-decoration-color: #008000\">|</span>\n",
       "<span style=\"color: #008000; text-decoration-color: #008000\">|----------------|----------------------------|--------------------------------------------------------------------</span>\n",
       "<span style=\"color: #008000; text-decoration-color: #008000\">-----------------------|</span>\n",
       "<span style=\"color: #008000; text-decoration-color: #008000\">| Bitcoin        | $</span><span style=\"color: #008000; text-decoration-color: #008000; font-weight: bold\">70</span><span style=\"color: #008000; text-decoration-color: #008000\">,</span><span style=\"color: #008000; text-decoration-color: #008000; font-weight: bold\">697.76</span><span style=\"color: #008000; text-decoration-color: #008000\">                 | Binance, BVOX, Bybit, OKX, CoinW, Crypto.com Exchange, Bitget, </span>\n",
       "<span style=\"color: #008000; text-decoration-color: #008000\">AscendEX </span><span style=\"color: #008000; text-decoration-color: #008000; font-weight: bold\">(</span><span style=\"color: #008000; text-decoration-color: #008000\">BitMax</span><span style=\"color: #008000; text-decoration-color: #008000; font-weight: bold\">)</span><span style=\"color: #008000; text-decoration-color: #008000\">, DigiFinex, HTX, P2B, Hotcoin, BitMart, Coinbase Exchange, Dex-Trade |</span>\n",
       "<span style=\"color: #008000; text-decoration-color: #008000\">| Tether         | $</span><span style=\"color: #008000; text-decoration-color: #008000; font-weight: bold\">1</span><span style=\"color: #008000; text-decoration-color: #008000\">,</span><span style=\"color: #008000; text-decoration-color: #008000; font-weight: bold\">519</span><span style=\"color: #008000; text-decoration-color: #008000\">,</span><span style=\"color: #008000; text-decoration-color: #008000; font-weight: bold\">623</span><span style=\"color: #008000; text-decoration-color: #008000\">,</span><span style=\"color: #008000; text-decoration-color: #008000; font-weight: bold\">175.72</span><span style=\"color: #008000; text-decoration-color: #008000\">           | Binance, Bitget, KuCoin, Bybit, DigiFinex, Pionex                 </span>\n",
       "<span style=\"color: #008000; text-decoration-color: #008000\">|</span>\n",
       "<span style=\"color: #008000; text-decoration-color: #008000\">| Ethereum       | $</span><span style=\"color: #008000; text-decoration-color: #008000; font-weight: bold\">1</span><span style=\"color: #008000; text-decoration-color: #008000\">,</span><span style=\"color: #008000; text-decoration-color: #008000; font-weight: bold\">235</span><span style=\"color: #008000; text-decoration-color: #008000\">,</span><span style=\"color: #008000; text-decoration-color: #008000; font-weight: bold\">044.72</span><span style=\"color: #008000; text-decoration-color: #008000\">              | Binance, Pionex, Bitget, Bybit, KuCoin                             </span>\n",
       "<span style=\"color: #008000; text-decoration-color: #008000\">|</span>\n",
       "<span style=\"color: #008000; text-decoration-color: #008000\">| Ripple         | $</span><span style=\"color: #008000; text-decoration-color: #008000; font-weight: bold\">80</span><span style=\"color: #008000; text-decoration-color: #008000\">,</span><span style=\"color: #008000; text-decoration-color: #008000; font-weight: bold\">815</span><span style=\"color: #008000; text-decoration-color: #008000\">,</span><span style=\"color: #008000; text-decoration-color: #008000; font-weight: bold\">788.99</span><span style=\"color: #008000; text-decoration-color: #008000\">             | Binance, Bybit, MEXC, OKX, DigiFinex                               </span>\n",
       "<span style=\"color: #008000; text-decoration-color: #008000\">|</span>\n",
       "<span style=\"color: #008000; text-decoration-color: #008000\">| Litecoin       | $</span><span style=\"color: #008000; text-decoration-color: #008000; font-weight: bold\">757</span><span style=\"color: #008000; text-decoration-color: #008000\">,</span><span style=\"color: #008000; text-decoration-color: #008000; font-weight: bold\">435.84</span><span style=\"color: #008000; text-decoration-color: #008000\">                | OKX, MEXC, Bybit, Bitget, Coinbase Exchange                        </span>\n",
       "<span style=\"color: #008000; text-decoration-color: #008000\">|</span>\n",
       "\n",
       "<span style=\"color: #008000; text-decoration-color: #008000\">### Summary of Execution Steps:</span>\n",
       "<span style=\"color: #008000; text-decoration-color: #008000; font-weight: bold\">1</span><span style=\"color: #008000; text-decoration-color: #008000\">. Retrieved trading information including volumes and exchanges for the five most traded cryptocurrencies today.</span>\n",
       "<span style=\"color: #008000; text-decoration-color: #008000; font-weight: bold\">2</span><span style=\"color: #008000; text-decoration-color: #008000\">. Collected the volume data for each currency from multiple exchanges.</span>\n",
       "<span style=\"color: #008000; text-decoration-color: #008000; font-weight: bold\">3</span><span style=\"color: #008000; text-decoration-color: #008000\">. Calculated the total trading volume for each cryptocurrency.</span>\n",
       "<span style=\"color: #008000; text-decoration-color: #008000; font-weight: bold\">4</span><span style=\"color: #008000; text-decoration-color: #008000\">. Compiled the results into a concise table format for better readability.</span>\n",
       "</pre>\n"
      ],
      "text/plain": [
       "\u001b[32mFinal answer: Here are the five most traded cryptocurrencies today along with their total trading volumes and \u001b[0m\n",
       "\u001b[32mexchanges they were traded on:\u001b[0m\n",
       "\n",
       "\u001b[32m| Cryptocurrency | Total Trading Volume \u001b[0m\u001b[1;32m(\u001b[0m\u001b[32mUSD\u001b[0m\u001b[1;32m)\u001b[0m\u001b[32m | Exchanges Traded On                                                \u001b[0m\n",
       "\u001b[32m|\u001b[0m\n",
       "\u001b[32m|----------------|----------------------------|--------------------------------------------------------------------\u001b[0m\n",
       "\u001b[32m-----------------------|\u001b[0m\n",
       "\u001b[32m| Bitcoin        | $\u001b[0m\u001b[1;32m70\u001b[0m\u001b[32m,\u001b[0m\u001b[1;32m697.76\u001b[0m\u001b[32m                 | Binance, BVOX, Bybit, OKX, CoinW, Crypto.com Exchange, Bitget, \u001b[0m\n",
       "\u001b[32mAscendEX \u001b[0m\u001b[1;32m(\u001b[0m\u001b[32mBitMax\u001b[0m\u001b[1;32m)\u001b[0m\u001b[32m, DigiFinex, HTX, P2B, Hotcoin, BitMart, Coinbase Exchange, Dex-Trade |\u001b[0m\n",
       "\u001b[32m| Tether         | $\u001b[0m\u001b[1;32m1\u001b[0m\u001b[32m,\u001b[0m\u001b[1;32m519\u001b[0m\u001b[32m,\u001b[0m\u001b[1;32m623\u001b[0m\u001b[32m,\u001b[0m\u001b[1;32m175.72\u001b[0m\u001b[32m           | Binance, Bitget, KuCoin, Bybit, DigiFinex, Pionex                 \u001b[0m\n",
       "\u001b[32m|\u001b[0m\n",
       "\u001b[32m| Ethereum       | $\u001b[0m\u001b[1;32m1\u001b[0m\u001b[32m,\u001b[0m\u001b[1;32m235\u001b[0m\u001b[32m,\u001b[0m\u001b[1;32m044.72\u001b[0m\u001b[32m              | Binance, Pionex, Bitget, Bybit, KuCoin                             \u001b[0m\n",
       "\u001b[32m|\u001b[0m\n",
       "\u001b[32m| Ripple         | $\u001b[0m\u001b[1;32m80\u001b[0m\u001b[32m,\u001b[0m\u001b[1;32m815\u001b[0m\u001b[32m,\u001b[0m\u001b[1;32m788.99\u001b[0m\u001b[32m             | Binance, Bybit, MEXC, OKX, DigiFinex                               \u001b[0m\n",
       "\u001b[32m|\u001b[0m\n",
       "\u001b[32m| Litecoin       | $\u001b[0m\u001b[1;32m757\u001b[0m\u001b[32m,\u001b[0m\u001b[1;32m435.84\u001b[0m\u001b[32m                | OKX, MEXC, Bybit, Bitget, Coinbase Exchange                        \u001b[0m\n",
       "\u001b[32m|\u001b[0m\n",
       "\n",
       "\u001b[32m### Summary of Execution Steps:\u001b[0m\n",
       "\u001b[1;32m1\u001b[0m\u001b[32m. Retrieved trading information including volumes and exchanges for the five most traded cryptocurrencies today.\u001b[0m\n",
       "\u001b[1;32m2\u001b[0m\u001b[32m. Collected the volume data for each currency from multiple exchanges.\u001b[0m\n",
       "\u001b[1;32m3\u001b[0m\u001b[32m. Calculated the total trading volume for each cryptocurrency.\u001b[0m\n",
       "\u001b[1;32m4\u001b[0m\u001b[32m. Compiled the results into a concise table format for better readability.\u001b[0m\n"
      ]
     },
     "metadata": {},
     "output_type": "display_data"
    }
   ],
   "source": [
    "    # Create a run for the agent\n",
    "    run = project_client.agents.create_run(thread_id=thread.id, assistant_id=agent.id)\n",
    "\n",
    "    # Poll the run as long as the run status is queued or in progress\n",
    "    while run.status in [\"queued\", \"in_progress\", \"requires_action\"]:\n",
    "        time.sleep(10)\n",
    "        run = project_client.agents.get_run(thread_id=thread.id, run_id=run.id)\n",
    "        print(f\"[yellow]Run status: {run.status}[/yellow]\")\n",
    "\n",
    "    # Get all messages and print only the final assistant answer\n",
    "    messages = project_client.agents.list_messages(thread_id=thread.id)\n",
    "    final_answer = next(\n",
    "        (msg['content'][0]['text']['value'] for msg in messages['data']\n",
    "         if msg['role'] == 'assistant' and msg.get('assistant_id')),\n",
    "        \"No answer received\"\n",
    "    )\n",
    "    print(f\"[green]Final answer: {final_answer}[/green]\")"
   ]
  },
  {
   "cell_type": "markdown",
   "metadata": {},
   "source": [
    "## Step 3b: Agent Initialization and Creating a Thread with new task\n",
    "\n",
    "Let us ask a new question to the agent. We will create a new thread with a different task and run it."
   ]
  },
  {
   "cell_type": "code",
   "execution_count": 11,
   "metadata": {},
   "outputs": [
    {
     "data": {
      "text/html": [
       "<pre style=\"white-space:pre;overflow-x:auto;line-height:normal;font-family:Menlo,'DejaVu Sans Mono',consolas,'Courier New',monospace\"><span style=\"color: #008000; text-decoration-color: #008000\">Fetching Cryptocurrency Agent with ID: asst_4bPhvgIUvIkmBwOpgLpfDIDe</span>\n",
       "</pre>\n"
      ],
      "text/plain": [
       "\u001b[32mFetching Cryptocurrency Agent with ID: asst_4bPhvgIUvIkmBwOpgLpfDIDe\u001b[0m\n"
      ]
     },
     "metadata": {},
     "output_type": "display_data"
    },
    {
     "data": {
      "text/html": [
       "<pre style=\"white-space:pre;overflow-x:auto;line-height:normal;font-family:Menlo,'DejaVu Sans Mono',consolas,'Courier New',monospace\"><span style=\"color: #008000; text-decoration-color: #008000\">Created thread, thread ID: thread_kXO7mTRwvQ3enhNSYzesOXA5</span>\n",
       "</pre>\n"
      ],
      "text/plain": [
       "\u001b[32mCreated thread, thread ID: thread_kXO7mTRwvQ3enhNSYzesOXA5\u001b[0m\n"
      ]
     },
     "metadata": {},
     "output_type": "display_data"
    },
    {
     "data": {
      "text/html": [
       "<pre style=\"white-space:pre;overflow-x:auto;line-height:normal;font-family:Menlo,'DejaVu Sans Mono',consolas,'Courier New',monospace\"><span style=\"color: #008000; text-decoration-color: #008000\">Created message, message ID: msg_cEJ6dbqF6qgICtmZ2AcOJCfe</span>\n",
       "</pre>\n"
      ],
      "text/plain": [
       "\u001b[32mCreated message, message ID: msg_cEJ6dbqF6qgICtmZ2AcOJCfe\u001b[0m\n"
      ]
     },
     "metadata": {},
     "output_type": "display_data"
    }
   ],
   "source": [
    "with tracer.start_as_current_span(scenario):\n",
    "    # Initialize the agent using the assistant ID from environment variables\n",
    "    agent = project_client.agents.get_agent(\n",
    "        assistant_id=os.environ[\"AZURE_AI_CRYPTO_AGENT_ID\"]\n",
    "    )\n",
    "    print(f\"[green]Fetching Cryptocurrency Agent with ID: {agent.id}[/green]\")\n",
    "\n",
    "    # Create a new thread\n",
    "    thread = project_client.agents.create_thread()\n",
    "    print(f\"[green]Created thread, thread ID: {thread.id}[/green]\")\n",
    "\n",
    "    # Create a message with the query content\n",
    "    message = project_client.agents.create_message(\n",
    "        thread_id=thread.id,\n",
    "        role=\"user\",\n",
    "        content=(\n",
    "            \"Find the OHLCV data for BTC for the last 12 hours and \" +\n",
    "            \"plot a candlestick chart with it to provide a quick snapshot. \" +\n",
    "            \"Make sure you plot full OHLCV data to yield a complete candlestick chart. \"\n",
    "        ),\n",
    "    )\n",
    "    print(f\"[green]Created message, message ID: {message.id}[/green]\")"
   ]
  },
  {
   "cell_type": "markdown",
   "metadata": {},
   "source": [
    "## Step 4b: Running the Agent and Extracting the Final Answer\n",
    "\n",
    "Let us trigger the new agent run, poll for its status until completion, and finally extract and print the final assistant answer."
   ]
  },
  {
   "cell_type": "code",
   "execution_count": 12,
   "metadata": {},
   "outputs": [
    {
     "data": {
      "text/html": [
       "<pre style=\"white-space:pre;overflow-x:auto;line-height:normal;font-family:Menlo,'DejaVu Sans Mono',consolas,'Courier New',monospace\"><span style=\"color: #808000; text-decoration-color: #808000\">Run status: in_progress</span>\n",
       "</pre>\n"
      ],
      "text/plain": [
       "\u001b[33mRun status: in_progress\u001b[0m\n"
      ]
     },
     "metadata": {},
     "output_type": "display_data"
    },
    {
     "data": {
      "text/html": [
       "<pre style=\"white-space:pre;overflow-x:auto;line-height:normal;font-family:Menlo,'DejaVu Sans Mono',consolas,'Courier New',monospace\"><span style=\"color: #808000; text-decoration-color: #808000\">Run status: in_progress</span>\n",
       "</pre>\n"
      ],
      "text/plain": [
       "\u001b[33mRun status: in_progress\u001b[0m\n"
      ]
     },
     "metadata": {},
     "output_type": "display_data"
    },
    {
     "data": {
      "text/html": [
       "<pre style=\"white-space:pre;overflow-x:auto;line-height:normal;font-family:Menlo,'DejaVu Sans Mono',consolas,'Courier New',monospace\"><span style=\"color: #808000; text-decoration-color: #808000\">Run status: in_progress</span>\n",
       "</pre>\n"
      ],
      "text/plain": [
       "\u001b[33mRun status: in_progress\u001b[0m\n"
      ]
     },
     "metadata": {},
     "output_type": "display_data"
    },
    {
     "data": {
      "text/html": [
       "<pre style=\"white-space:pre;overflow-x:auto;line-height:normal;font-family:Menlo,'DejaVu Sans Mono',consolas,'Courier New',monospace\"><span style=\"color: #808000; text-decoration-color: #808000\">Run status: in_progress</span>\n",
       "</pre>\n"
      ],
      "text/plain": [
       "\u001b[33mRun status: in_progress\u001b[0m\n"
      ]
     },
     "metadata": {},
     "output_type": "display_data"
    },
    {
     "data": {
      "text/html": [
       "<pre style=\"white-space:pre;overflow-x:auto;line-height:normal;font-family:Menlo,'DejaVu Sans Mono',consolas,'Courier New',monospace\"><span style=\"color: #808000; text-decoration-color: #808000\">Run status: completed</span>\n",
       "</pre>\n"
      ],
      "text/plain": [
       "\u001b[33mRun status: completed\u001b[0m\n"
      ]
     },
     "metadata": {},
     "output_type": "display_data"
    },
    {
     "data": {
      "text/html": [
       "<pre style=\"white-space:pre;overflow-x:auto;line-height:normal;font-family:Menlo,'DejaVu Sans Mono',consolas,'Courier New',monospace\"><span style=\"color: #808000; text-decoration-color: #808000\">The candlestick chart for BTC/USD over the last </span><span style=\"color: #808000; text-decoration-color: #808000; font-weight: bold\">12</span><span style=\"color: #808000; text-decoration-color: #808000\"> hours has been displayed successfully. </span>\n",
       "\n",
       "<span style=\"color: #808000; text-decoration-color: #808000\">### Summary of Execution Steps:</span>\n",
       "<span style=\"color: #808000; text-decoration-color: #808000; font-weight: bold\">1</span><span style=\"color: #808000; text-decoration-color: #808000\">. **Data Retrieval**: Gathered OHLCV data for Bitcoin </span><span style=\"color: #808000; text-decoration-color: #808000; font-weight: bold\">(</span><span style=\"color: #808000; text-decoration-color: #808000\">BTC</span><span style=\"color: #808000; text-decoration-color: #808000; font-weight: bold\">)</span><span style=\"color: #808000; text-decoration-color: #808000\"> covering the last </span><span style=\"color: #808000; text-decoration-color: #808000; font-weight: bold\">12</span><span style=\"color: #808000; text-decoration-color: #808000\"> hours.</span>\n",
       "<span style=\"color: #808000; text-decoration-color: #808000; font-weight: bold\">2</span><span style=\"color: #808000; text-decoration-color: #808000\">. **Data Preparation**: Created a Pandas DataFrame from the OHLCV data and converted timestamps to a datetime </span>\n",
       "<span style=\"color: #808000; text-decoration-color: #808000\">format suitable for plotting.</span>\n",
       "<span style=\"color: #808000; text-decoration-color: #808000; font-weight: bold\">3</span><span style=\"color: #808000; text-decoration-color: #808000\">. **Custom Plotting Function**: Defined a function to manually plot a candlestick chart using Matplotlib, since </span>\n",
       "<span style=\"color: #808000; text-decoration-color: #808000\">`mplfinance` was not available in the environment.</span>\n",
       "<span style=\"color: #808000; text-decoration-color: #808000; font-weight: bold\">4</span><span style=\"color: #808000; text-decoration-color: #808000\">. **Plotting Execution**: Used the defined function to display the candlestick chart, showing bullish and bearish </span>\n",
       "<span style=\"color: #808000; text-decoration-color: #808000\">candlesticks along with high, low, open, and close prices.</span>\n",
       "\n",
       "<span style=\"color: #808000; text-decoration-color: #808000\">If you have any further questions or need additional analyses, feel free to ask!</span>\n",
       "</pre>\n"
      ],
      "text/plain": [
       "\u001b[33mThe candlestick chart for BTC/USD over the last \u001b[0m\u001b[1;33m12\u001b[0m\u001b[33m hours has been displayed successfully. \u001b[0m\n",
       "\n",
       "\u001b[33m### Summary of Execution Steps:\u001b[0m\n",
       "\u001b[1;33m1\u001b[0m\u001b[33m. **Data Retrieval**: Gathered OHLCV data for Bitcoin \u001b[0m\u001b[1;33m(\u001b[0m\u001b[33mBTC\u001b[0m\u001b[1;33m)\u001b[0m\u001b[33m covering the last \u001b[0m\u001b[1;33m12\u001b[0m\u001b[33m hours.\u001b[0m\n",
       "\u001b[1;33m2\u001b[0m\u001b[33m. **Data Preparation**: Created a Pandas DataFrame from the OHLCV data and converted timestamps to a datetime \u001b[0m\n",
       "\u001b[33mformat suitable for plotting.\u001b[0m\n",
       "\u001b[1;33m3\u001b[0m\u001b[33m. **Custom Plotting Function**: Defined a function to manually plot a candlestick chart using Matplotlib, since \u001b[0m\n",
       "\u001b[33m`mplfinance` was not available in the environment.\u001b[0m\n",
       "\u001b[1;33m4\u001b[0m\u001b[33m. **Plotting Execution**: Used the defined function to display the candlestick chart, showing bullish and bearish \u001b[0m\n",
       "\u001b[33mcandlesticks along with high, low, open, and close prices.\u001b[0m\n",
       "\n",
       "\u001b[33mIf you have any further questions or need additional analyses, feel free to ask!\u001b[0m\n"
      ]
     },
     "metadata": {},
     "output_type": "display_data"
    },
    {
     "data": {
      "text/html": [
       "<pre style=\"white-space:pre;overflow-x:auto;line-height:normal;font-family:Menlo,'DejaVu Sans Mono',consolas,'Courier New',monospace\"><span style=\"color: #808000; text-decoration-color: #808000\">Find the OHLCV data for BTC for the last </span><span style=\"color: #808000; text-decoration-color: #808000; font-weight: bold\">12</span><span style=\"color: #808000; text-decoration-color: #808000\"> hours and plot a candlestick chart with it to provide a quick snapshot.</span>\n",
       "<span style=\"color: #808000; text-decoration-color: #808000\">Make sure you plot full OHLCV data to yield a complete candlestick chart. </span>\n",
       "</pre>\n"
      ],
      "text/plain": [
       "\u001b[33mFind the OHLCV data for BTC for the last \u001b[0m\u001b[1;33m12\u001b[0m\u001b[33m hours and plot a candlestick chart with it to provide a quick snapshot.\u001b[0m\n",
       "\u001b[33mMake sure you plot full OHLCV data to yield a complete candlestick chart. \u001b[0m\n"
      ]
     },
     "metadata": {},
     "output_type": "display_data"
    }
   ],
   "source": [
    "    # Create a run for the agent\n",
    "    run = project_client.agents.create_run(thread_id=thread.id, assistant_id=agent.id)\n",
    "\n",
    "    # Poll the run as long as the run status is queued or in progress\n",
    "    while run.status in [\"queued\", \"in_progress\", \"requires_action\"]:\n",
    "        time.sleep(10)\n",
    "        run = project_client.agents.get_run(thread_id=thread.id, run_id=run.id)\n",
    "        print(f\"[yellow]Run status: {run.status}[/yellow]\")\n",
    "\n",
    "    # Get all messages and print only the final assistant answer\n",
    "    messages = project_client.agents.list_messages(thread_id=thread.id)\n",
    "    \n",
    "    # Print Assistant Messages\n",
    "    for msg in messages['data']:\n",
    "            for item in msg['content']:\n",
    "                if item.get('type') == 'text':\n",
    "                    text = item.get('text', {}).get('value')\n",
    "                    if text:\n",
    "                        print(f\"[yellow]{text}[/yellow]\")\n",
    "\n",
    "    # If candlestick image is present, store it\n",
    "    for msg in messages['data']:\n",
    "        for item in msg['content']:\n",
    "            if item.get('type') == 'image_file':\n",
    "                image_info = item.get('image_file', {})\n",
    "                file_id = image_info.get('file_id')\n",
    "                if file_id:\n",
    "                    # Fetch the file content as binary data\n",
    "                    image_file = project_client.agents.get_file_content(file_id=file_id)\n",
    "                    # Display the image via iPython\n",
    "                    img_data = b\"\".join(list(image_file))\n",
    "                    with open(\"candlestick.png\", \"wb\") as f:\n",
    "                        f.write(img_data)\n"
   ]
  },
  {
   "cell_type": "markdown",
   "metadata": {},
   "source": [
    "## Summary\n",
    "\n",
    "This notebook showcased how to integrate with and monitor a Cryptocurrency Agent using the Azure AI SDK. We configured telemetry, created a communication thread, sent a query, and finally extracted the agent's final response. Execute the cells in sequence for a comprehensive demonstration."
   ]
  },
  {
   "cell_type": "markdown",
   "metadata": {},
   "source": []
  }
 ],
 "metadata": {
  "kernelspec": {
   "display_name": "llm",
   "language": "python",
   "name": "python3"
  },
  "language_info": {
   "codemirror_mode": {
    "name": "ipython",
    "version": 3
   },
   "file_extension": ".py",
   "mimetype": "text/x-python",
   "name": "python",
   "nbconvert_exporter": "python",
   "pygments_lexer": "ipython3",
   "version": "3.10.14"
  }
 },
 "nbformat": 4,
 "nbformat_minor": 2
}
